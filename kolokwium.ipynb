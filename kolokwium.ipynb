{
 "cells": [
  {
   "cell_type": "markdown",
   "id": "110cc9a2",
   "metadata": {},
   "source": [
    "#### Paweł Leśniak 268419"
   ]
  },
  {
   "cell_type": "code",
   "execution_count": 15,
   "id": "dc89816c",
   "metadata": {},
   "outputs": [],
   "source": [
    "import math\n",
    "import matplotlib.pyplot as plt\n",
    "import numpy as np"
   ]
  },
  {
   "cell_type": "markdown",
   "id": "8dafe089",
   "metadata": {},
   "source": [
    "# Zad 1"
   ]
  },
  {
   "cell_type": "code",
   "execution_count": 11,
   "id": "fa505626",
   "metadata": {},
   "outputs": [],
   "source": [
    "def fun1(s1, s2, c):\n",
    "    new_s1 = \"\"\n",
    "    for ch in s1:\n",
    "        if (ch == c):\n",
    "            new_s1 += s2\n",
    "        else:\n",
    "            new_s1 += ch\n",
    "    return new_s1"
   ]
  },
  {
   "cell_type": "code",
   "execution_count": 47,
   "id": "92a7723e",
   "metadata": {},
   "outputs": [
    {
     "data": {
      "text/plain": [
       "'cubbcub'"
      ]
     },
     "execution_count": 47,
     "metadata": {},
     "output_type": "execute_result"
    }
   ],
   "source": [
    "fun1('abbab', 'cu', 'a')"
   ]
  },
  {
   "cell_type": "markdown",
   "id": "b5e7f95b",
   "metadata": {},
   "source": [
    "# Zad 2"
   ]
  },
  {
   "cell_type": "code",
   "execution_count": 50,
   "id": "f9dc0680",
   "metadata": {},
   "outputs": [],
   "source": [
    "def fun2(n):\n",
    "    count = 0\n",
    "    end_iter = n - 1\n",
    "    is_prime = np.ones(end_iter)\n",
    "    for k in range(0, end_iter):\n",
    "        if is_prime[k]:\n",
    "            count += 1\n",
    "            for i in range(k, end_iter, k + 2):\n",
    "                is_prime[i] = 0\n",
    "    return count"
   ]
  },
  {
   "cell_type": "code",
   "execution_count": 51,
   "id": "384d353e",
   "metadata": {},
   "outputs": [
    {
     "name": "stdout",
     "output_type": "stream",
     "text": [
      "5\n",
      "6\n"
     ]
    }
   ],
   "source": [
    "print(fun2(12))\n",
    "print(fun2(13))"
   ]
  },
  {
   "cell_type": "code",
   "execution_count": 110,
   "id": "d3952c79",
   "metadata": {},
   "outputs": [
    {
     "data": {
      "image/png": "[encoded data removed]",
      "text/plain": [
       "<Figure size 432x288 with 1 Axes>"
      ]
     },
     "metadata": {
      "needs_background": "light"
     },
     "output_type": "display_data"
    },
    {
     "data": {
      "image/png": "[encoded data removed]",
      "text/plain": [
       "<Figure size 432x288 with 1 Axes>"
      ]
     },
     "metadata": {
      "needs_background": "light"
     },
     "output_type": "display_data"
    }
   ],
   "source": [
    "n = 1001\n",
    "X = np.arange(1, 1001, 1)\n",
    "Y1 = [fun2(i) for i in range(1, 1001)]\n",
    "Y2 = [fun2(i)/i * math.log(i) for i in range(1, 1001)]\n",
    "\n",
    "plt.plot(X, Y1, c='r')\n",
    "plt.title(\"fun2(x)\")\n",
    "plt.show()\n",
    "plt.plot(X, Y2, c='g')\n",
    "plt.title(\"fun2(x) / (x/ln(x))\")\n",
    "plt.show()"
   ]
  },
  {
   "cell_type": "markdown",
   "id": "fc176c97",
   "metadata": {},
   "source": [
    "# Zad 3"
   ]
  },
  {
   "cell_type": "code",
   "execution_count": 101,
   "id": "7e4d63a7",
   "metadata": {},
   "outputs": [],
   "source": [
    "def fun3(dic):\n",
    "    new_dic = dict.fromkeys(set(dic.values()))\n",
    "    for k in new_dic.keys():\n",
    "        new_dic[k] = []\n",
    "    for person, colour in dic.items():\n",
    "        new_dic[colour].append(person)\n",
    "    return new_dic"
   ]
  },
  {
   "cell_type": "code",
   "execution_count": 102,
   "id": "7b0a32b0",
   "metadata": {},
   "outputs": [
    {
     "data": {
      "text/plain": [
       "{'blue': ['paul'], 'red': ['josh', 'thomas']}"
      ]
     },
     "execution_count": 102,
     "metadata": {},
     "output_type": "execute_result"
    }
   ],
   "source": [
    "fun3({\"josh\": \"red\", \"paul\": \"blue\", \"thomas\": \"red\"})"
   ]
  },
  {
   "cell_type": "code",
   "execution_count": null,
   "id": "ea6325c5",
   "metadata": {},
   "outputs": [],
   "source": []
  }
 ],
 "metadata": {
  "kernelspec": {
   "display_name": "Python 3 (ipykernel)",
   "language": "python",
   "name": "python3"
  },
  "language_info": {
   "codemirror_mode": {
    "name": "ipython",
    "version": 3
   },
   "file_extension": ".py",
   "mimetype": "text/x-python",
   "name": "python",
   "nbconvert_exporter": "python",
   "pygments_lexer": "ipython3",
   "version": "3.9.12"
  }
 },
 "nbformat": 4,
 "nbformat_minor": 5
}
